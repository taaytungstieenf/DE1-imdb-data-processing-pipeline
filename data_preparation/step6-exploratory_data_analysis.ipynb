{
 "cells": [
  {
   "cell_type": "code",
   "execution_count": null,
   "id": "initial_id",
   "metadata": {
    "collapsed": true
   },
   "outputs": [],
   "source": [
    ""
   ]
  },
  {
   "metadata": {
    "ExecuteTime": {
     "end_time": "2025-07-09T10:57:34.985116Z",
     "start_time": "2025-07-09T10:57:31.862987Z"
    }
   },
   "cell_type": "code",
   "source": [
    "import findspark\n",
    "findspark.init(\"/opt/spark\")\n",
    "\n",
    "from pyspark.sql import SparkSession\n",
    "import os\n",
    "\n",
    "spark = SparkSession.builder.appName(\"IMDB EDA\").getOrCreate()\n",
    "PROJECT_ROOT = os.path.abspath(\"..\")\n",
    "DATA_PATH = os.path.join(PROJECT_ROOT, \"data_validation\", \"data_for_batch\", \"fact_movie_full.parquet\")\n",
    "df = spark.read.parquet(DATA_PATH)\n",
    "df.printSchema()\n"
   ],
   "id": "19f9e9f7882508d",
   "outputs": [
    {
     "name": "stderr",
     "output_type": "stream",
     "text": [
      "                                                                                \r"
     ]
    },
    {
     "name": "stdout",
     "output_type": "stream",
     "text": [
      "root\n",
      " |-- tconst: string (nullable = true)\n",
      " |-- titleType: string (nullable = true)\n",
      " |-- primaryTitle: string (nullable = true)\n",
      " |-- originalTitle: string (nullable = true)\n",
      " |-- startYear: string (nullable = true)\n",
      " |-- endYear: string (nullable = true)\n",
      " |-- runtimeMinutes: string (nullable = true)\n",
      " |-- genres: string (nullable = true)\n",
      " |-- averageRating: string (nullable = true)\n",
      " |-- numVotes: string (nullable = true)\n",
      " |-- directors: string (nullable = true)\n",
      " |-- writers: string (nullable = true)\n",
      " |-- category: string (nullable = true)\n",
      " |-- primaryName: string (nullable = true)\n",
      " |-- primaryProfession: string (nullable = true)\n",
      "\n"
     ]
    }
   ],
   "execution_count": 2
  },
  {
   "metadata": {},
   "cell_type": "code",
   "outputs": [],
   "execution_count": null,
   "source": "",
   "id": "f3d5f0d4ac8031ea"
  },
  {
   "metadata": {
    "ExecuteTime": {
     "end_time": "2025-07-09T10:58:50.273698Z",
     "start_time": "2025-07-09T10:58:48.347664Z"
    }
   },
   "cell_type": "code",
   "source": [
    "df.show(5, truncate=False)\n",
    "print(f\"Số dòng: {df.count()}\")\n",
    "print(f\"Số cột: {len(df.columns)}\")"
   ],
   "id": "448d4eb72214da3d",
   "outputs": [
    {
     "name": "stdout",
     "output_type": "stream",
     "text": [
      "+----------+---------+-----------------------------+-----------------------------+---------+-------+--------------+-----------------+-------------+--------+---------+-------+--------+-----------+-----------------+\n",
      "|tconst    |titleType|primaryTitle                 |originalTitle                |startYear|endYear|runtimeMinutes|genres           |averageRating|numVotes|directors|writers|category|primaryName|primaryProfession|\n",
      "+----------+---------+-----------------------------+-----------------------------+---------+-------+--------------+-----------------+-------------+--------+---------+-------+--------+-----------+-----------------+\n",
      "|tt0004347 |movie    |A Modern Mephisto            |A Modern Mephisto            |1914     |NULL   |NULL          |NULL             |NULL         |NULL    |NULL     |NULL   |NULL    |NULL       |NULL             |\n",
      "|tt21654270|tvEpisode|Tabular Yikiliyor            |Tabular Yikiliyor            |2000     |NULL   |NULL          |Documentary      |NULL         |NULL    |NULL     |NULL   |NULL    |NULL       |NULL             |\n",
      "|tt0009797 |short    |Whispering Wires of War      |Whispering Wires of War      |1918     |NULL   |NULL          |Documentary,Short|NULL         |NULL    |NULL     |NULL   |NULL    |NULL       |NULL             |\n",
      "|tt2165443 |tvEpisode|Episode dated 14 January 2012|Episode dated 14 January 2012|2012     |NULL   |NULL          |Sport            |NULL         |NULL    |NULL     |NULL   |NULL    |NULL       |NULL             |\n",
      "|tt0010542 |short    |Out of the Sea               |Out of the Sea               |1919     |NULL   |NULL          |Documentary,Short|NULL         |NULL    |NULL     |NULL   |NULL    |NULL       |NULL             |\n",
      "+----------+---------+-----------------------------+-----------------------------+---------+-------+--------------+-----------------+-------------+--------+---------+-------+--------+-----------+-----------------+\n",
      "only showing top 5 rows\n",
      "\n"
     ]
    },
    {
     "name": "stderr",
     "output_type": "stream",
     "text": [
      "[Stage 3:=================================================>       (35 + 5) / 40]\r"
     ]
    },
    {
     "name": "stdout",
     "output_type": "stream",
     "text": [
      "Số dòng: 94624158\n",
      "Số cột: 15\n"
     ]
    },
    {
     "name": "stderr",
     "output_type": "stream",
     "text": [
      "                                                                                \r"
     ]
    }
   ],
   "execution_count": 4
  },
  {
   "metadata": {},
   "cell_type": "code",
   "outputs": [],
   "execution_count": null,
   "source": "",
   "id": "a1d5fb78f826faf7"
  },
  {
   "metadata": {
    "ExecuteTime": {
     "end_time": "2025-07-09T11:00:08.358684Z",
     "start_time": "2025-07-09T10:59:19.795400Z"
    }
   },
   "cell_type": "code",
   "source": [
    "from pyspark.sql.functions import col, sum\n",
    "\n",
    "df.select([\n",
    "    sum(col(c).isNull().cast(\"int\")).alias(c + \"_nulls\")\n",
    "    for c in df.columns\n",
    "]).show()"
   ],
   "id": "b1c410a9867ef372",
   "outputs": [
    {
     "name": "stderr",
     "output_type": "stream",
     "text": [
      "[Stage 6:=======================================================> (39 + 1) / 40]\r"
     ]
    },
    {
     "name": "stdout",
     "output_type": "stream",
     "text": [
      "+------------+---------------+------------------+-------------------+---------------+-------------+--------------------+------------+-------------------+--------------+---------------+-------------+--------------+-----------------+-----------------------+\n",
      "|tconst_nulls|titleType_nulls|primaryTitle_nulls|originalTitle_nulls|startYear_nulls|endYear_nulls|runtimeMinutes_nulls|genres_nulls|averageRating_nulls|numVotes_nulls|directors_nulls|writers_nulls|category_nulls|primaryName_nulls|primaryProfession_nulls|\n",
      "+------------+---------------+------------------+-------------------+---------------+-------------+--------------------+------------+-------------------+--------------+---------------+-------------+--------------+-----------------+-----------------------+\n",
      "|           0|              0|                 0|                  0|        9412409|     93556048|            55201738|     3040197|           72651414|      72651414|       21018615|     24967043|       1122586|          1130602|                4677839|\n",
      "+------------+---------------+------------------+-------------------+---------------+-------------+--------------------+------------+-------------------+--------------+---------------+-------------+--------------+-----------------+-----------------------+\n",
      "\n"
     ]
    },
    {
     "name": "stderr",
     "output_type": "stream",
     "text": [
      "                                                                                \r"
     ]
    }
   ],
   "execution_count": 5
  },
  {
   "metadata": {},
   "cell_type": "code",
   "outputs": [],
   "execution_count": null,
   "source": "",
   "id": "8627cc491ac2125b"
  },
  {
   "metadata": {
    "ExecuteTime": {
     "end_time": "2025-07-09T11:00:34.694802Z",
     "start_time": "2025-07-09T11:00:19.942578Z"
    }
   },
   "cell_type": "code",
   "source": [
    "from pyspark.sql.functions import col\n",
    "\n",
    "df.select(\"averageRating\").describe().show()\n",
    "\n",
    "df.select(\"averageRating\").groupBy(\"averageRating\").count().orderBy(\"averageRating\").show(50)\n"
   ],
   "id": "78a703c5a583b8c2",
   "outputs": [
    {
     "name": "stderr",
     "output_type": "stream",
     "text": [
      "                                                                                \r"
     ]
    },
    {
     "name": "stdout",
     "output_type": "stream",
     "text": [
      "+-------+------------------+\n",
      "|summary|     averageRating|\n",
      "+-------+------------------+\n",
      "|  count|          21972744|\n",
      "|   mean|  6.94980985533769|\n",
      "| stddev|1.3456689590406963|\n",
      "|    min|               1.0|\n",
      "|    max|               9.9|\n",
      "+-------+------------------+\n",
      "\n"
     ]
    },
    {
     "name": "stderr",
     "output_type": "stream",
     "text": [
      "[Stage 12:===============================================>        (34 + 6) / 40]\r"
     ]
    },
    {
     "name": "stdout",
     "output_type": "stream",
     "text": [
      "+-------------+--------+\n",
      "|averageRating|   count|\n",
      "+-------------+--------+\n",
      "|         NULL|72651414|\n",
      "|          1.0|   13146|\n",
      "|          1.1|    3047|\n",
      "|          1.2|    3810|\n",
      "|          1.3|    4020|\n",
      "|          1.4|    4762|\n",
      "|          1.5|    5764|\n",
      "|          1.6|    5373|\n",
      "|          1.7|    5755|\n",
      "|          1.8|    7271|\n",
      "|          1.9|    7211|\n",
      "|         10.0|   51001|\n",
      "|          2.0|   10146|\n",
      "|          2.1|    9268|\n",
      "|          2.2|   13030|\n",
      "|          2.3|   15033|\n",
      "|          2.4|   16251|\n",
      "|          2.5|   16604|\n",
      "|          2.6|   19294|\n",
      "|          2.7|   20473|\n",
      "|          2.8|   25635|\n",
      "|          2.9|   21374|\n",
      "|          3.0|   31005|\n",
      "|          3.1|   28638|\n",
      "|          3.2|   39682|\n",
      "|          3.3|   36667|\n",
      "|          3.4|   45127|\n",
      "|          3.5|   44380|\n",
      "|          3.6|   55812|\n",
      "|          3.7|   53298|\n",
      "|          3.8|   63387|\n",
      "|          3.9|   55969|\n",
      "|          4.0|   75849|\n",
      "|          4.1|   70899|\n",
      "|          4.2|   92919|\n",
      "|          4.3|   88525|\n",
      "|          4.4|  107117|\n",
      "|          4.5|  104129|\n",
      "|          4.6|  131656|\n",
      "|          4.7|  126251|\n",
      "|          4.8|  160933|\n",
      "|          4.9|  138968|\n",
      "|          5.0|  186834|\n",
      "|          5.1|  171159|\n",
      "|          5.2|  235219|\n",
      "|          5.3|  218755|\n",
      "|          5.4|  262579|\n",
      "|          5.5|  255939|\n",
      "|          5.6|  303336|\n",
      "|          5.7|  295479|\n",
      "+-------------+--------+\n",
      "only showing top 50 rows\n",
      "\n"
     ]
    },
    {
     "name": "stderr",
     "output_type": "stream",
     "text": [
      "                                                                                \r"
     ]
    }
   ],
   "execution_count": 6
  },
  {
   "metadata": {
    "ExecuteTime": {
     "end_time": "2025-07-09T11:07:23.554920Z",
     "start_time": "2025-07-09T11:07:19.628955Z"
    }
   },
   "cell_type": "code",
   "source": "df.groupBy(\"genres\").count().orderBy(\"count\", ascending=False).show(20, truncate=False)",
   "id": "418ae0808f75b968",
   "outputs": [
    {
     "name": "stderr",
     "output_type": "stream",
     "text": [
      "[Stage 15:==================================================>     (36 + 4) / 40]\r"
     ]
    },
    {
     "name": "stdout",
     "output_type": "stream",
     "text": [
      "+--------------------------+--------+\n",
      "|genres                    |count   |\n",
      "+--------------------------+--------+\n",
      "|Drama                     |14503726|\n",
      "|Comedy                    |7183900 |\n",
      "|Drama,Romance             |6476093 |\n",
      "|Talk-Show                 |3348062 |\n",
      "|NULL                      |3040197 |\n",
      "|Documentary               |2956820 |\n",
      "|Reality-TV                |2037376 |\n",
      "|Drama,Short               |1999023 |\n",
      "|News                      |1931230 |\n",
      "|Comedy,Drama,Romance      |1480047 |\n",
      "|Comedy,Drama              |1401221 |\n",
      "|Short                     |1391904 |\n",
      "|Comedy,Short              |1371696 |\n",
      "|Adult                     |1297615 |\n",
      "|News,Talk-Show            |1275554 |\n",
      "|Family                    |1213917 |\n",
      "|Action,Adventure,Animation|1200868 |\n",
      "|Romance                   |1171013 |\n",
      "|Game-Show                 |947581  |\n",
      "|Crime,Drama,Mystery       |925595  |\n",
      "+--------------------------+--------+\n",
      "only showing top 20 rows\n",
      "\n"
     ]
    },
    {
     "name": "stderr",
     "output_type": "stream",
     "text": [
      "                                                                                \r"
     ]
    }
   ],
   "execution_count": 16
  },
  {
   "metadata": {},
   "cell_type": "code",
   "outputs": [],
   "execution_count": null,
   "source": "",
   "id": "5c0067c669081be8"
  },
  {
   "metadata": {
    "ExecuteTime": {
     "end_time": "2025-07-09T11:07:37.017333Z",
     "start_time": "2025-07-09T11:07:33.758155Z"
    }
   },
   "cell_type": "code",
   "source": "df.groupBy(\"startYear\").count().orderBy(\"startYear\").show(100)\n",
   "id": "47276e02b06b59c7",
   "outputs": [
    {
     "name": "stderr",
     "output_type": "stream",
     "text": [
      "[Stage 18:===================================================>    (37 + 3) / 40]\r"
     ]
    },
    {
     "name": "stdout",
     "output_type": "stream",
     "text": [
      "+---------+-------+\n",
      "|startYear|  count|\n",
      "+---------+-------+\n",
      "|     NULL|9412409|\n",
      "|     1874|      4|\n",
      "|     1878|     38|\n",
      "|     1881|     26|\n",
      "|     1882|      6|\n",
      "|     1883|      3|\n",
      "|     1885|      2|\n",
      "|     1887|    132|\n",
      "|     1888|     19|\n",
      "|     1889|      3|\n",
      "|     1890|     29|\n",
      "|     1891|     60|\n",
      "|     1892|     28|\n",
      "|     1893|     24|\n",
      "|     1894|    402|\n",
      "|     1895|    357|\n",
      "|     1896|   1752|\n",
      "|     1897|   2066|\n",
      "|     1898|   2531|\n",
      "|     1899|   2578|\n",
      "|     1900|   2678|\n",
      "|     1901|   2386|\n",
      "|     1902|   2458|\n",
      "|     1903|   3318|\n",
      "|     1904|   2326|\n",
      "|     1905|   2436|\n",
      "|     1906|   2931|\n",
      "|     1907|   3686|\n",
      "|     1908|   7209|\n",
      "|     1909|  10885|\n",
      "|     1910|  14255|\n",
      "|     1911|  20328|\n",
      "|     1912|  30599|\n",
      "|     1913|  40273|\n",
      "|     1914|  45060|\n",
      "|     1915|  46901|\n",
      "|     1916|  42889|\n",
      "|     1917|  36677|\n",
      "|     1918|  29641|\n",
      "|     1919|  29864|\n",
      "|     1920|  32297|\n",
      "|     1921|  30448|\n",
      "|     1922|  25760|\n",
      "|     1923|  24145|\n",
      "|     1924|  25131|\n",
      "|     1925|  27981|\n",
      "|     1926|  29390|\n",
      "|     1927|  29673|\n",
      "|     1928|  29307|\n",
      "|     1929|  29608|\n",
      "|     1930|  28625|\n",
      "|     1931|  31597|\n",
      "|     1932|  30392|\n",
      "|     1933|  29856|\n",
      "|     1934|  31832|\n",
      "|     1935|  32488|\n",
      "|     1936|  35109|\n",
      "|     1937|  36796|\n",
      "|     1938|  37253|\n",
      "|     1939|  34724|\n",
      "|     1940|  30744|\n",
      "|     1941|  28477|\n",
      "|     1942|  28357|\n",
      "|     1943|  25572|\n",
      "|     1944|  22599|\n",
      "|     1945|  21285|\n",
      "|     1946|  27401|\n",
      "|     1947|  30558|\n",
      "|     1948|  36884|\n",
      "|     1949|  48266|\n",
      "|     1950|  64570|\n",
      "|     1951|  80755|\n",
      "|     1952|  92751|\n",
      "|     1953| 104115|\n",
      "|     1954| 139864|\n",
      "|     1955| 140525|\n",
      "|     1956| 140629|\n",
      "|     1957| 153703|\n",
      "|     1958| 166744|\n",
      "|     1959| 180434|\n",
      "|     1960| 203263|\n",
      "|     1961| 215060|\n",
      "|     1962| 202104|\n",
      "|     1963| 221834|\n",
      "|     1964| 239405|\n",
      "|     1965| 280119|\n",
      "|     1966| 287842|\n",
      "|     1967| 313788|\n",
      "|     1968| 301665|\n",
      "|     1969| 353944|\n",
      "|     1970| 335224|\n",
      "|     1971| 342057|\n",
      "|     1972| 337133|\n",
      "|     1973| 346477|\n",
      "|     1974| 333665|\n",
      "|     1975| 336436|\n",
      "|     1976| 348451|\n",
      "|     1977| 345364|\n",
      "|     1978| 350652|\n",
      "|     1979| 354787|\n",
      "+---------+-------+\n",
      "only showing top 100 rows\n",
      "\n"
     ]
    },
    {
     "name": "stderr",
     "output_type": "stream",
     "text": [
      "                                                                                \r"
     ]
    }
   ],
   "execution_count": 17
  },
  {
   "metadata": {},
   "cell_type": "code",
   "outputs": [],
   "execution_count": null,
   "source": "",
   "id": "f783882c756a169d"
  },
  {
   "metadata": {
    "ExecuteTime": {
     "end_time": "2025-07-09T11:14:16.490285Z",
     "start_time": "2025-07-09T11:14:16.169003Z"
    }
   },
   "cell_type": "code",
   "source": "spark.stop()",
   "id": "b639d0ef8a596526",
   "outputs": [],
   "execution_count": 19
  },
  {
   "metadata": {},
   "cell_type": "code",
   "outputs": [],
   "execution_count": null,
   "source": "",
   "id": "4eb081f19cd9598b"
  },
  {
   "metadata": {},
   "cell_type": "code",
   "outputs": [],
   "execution_count": null,
   "source": "",
   "id": "85e2fd5a958c5290"
  },
  {
   "metadata": {},
   "cell_type": "code",
   "outputs": [],
   "execution_count": null,
   "source": "",
   "id": "2951a7f84d3e8bea"
  }
 ],
 "metadata": {
  "kernelspec": {
   "display_name": "Python 3",
   "language": "python",
   "name": "python3"
  },
  "language_info": {
   "codemirror_mode": {
    "name": "ipython",
    "version": 2
   },
   "file_extension": ".py",
   "mimetype": "text/x-python",
   "name": "python",
   "nbconvert_exporter": "python",
   "pygments_lexer": "ipython2",
   "version": "2.7.6"
  }
 },
 "nbformat": 4,
 "nbformat_minor": 5
}
